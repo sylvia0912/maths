{
 "cells": [
  {
   "cell_type": "markdown",
   "id": "c0fd0a63",
   "metadata": {},
   "source": [
    "## Linear vs Non-Linear Problem"
   ]
  },
  {
   "cell_type": "markdown",
   "id": "7fdb18c8",
   "metadata": {},
   "source": [
    "How do we know a problem is a linear or non-linear solvable ?"
   ]
  },
  {
   "cell_type": "markdown",
   "id": "6b619548",
   "metadata": {},
   "source": [
    "Actually, linear programming and nonlinear programming problems are not as general as saying convex and nonconvex optimization problems. A convex optimization problem maintains the properties of a linear programming problem and a non convex problem the properties of a non linear programming problem."
   ]
  },
  {
   "cell_type": "markdown",
   "id": "798ca9d8",
   "metadata": {},
   "source": [
    "## Linear vs Non-Linear Algorithms"
   ]
  },
  {
   "cell_type": "markdown",
   "id": "adb9b3e4",
   "metadata": {},
   "source": [
    "### Linear"
   ]
  },
  {
   "cell_type": "markdown",
   "id": "7548e81d",
   "metadata": {},
   "source": [
    "1. Linear Regression\n",
    "2. Logistic Regression\n",
    "3. Linear Discriminant Analysis"
   ]
  },
  {
   "cell_type": "markdown",
   "id": "10cc568e",
   "metadata": {},
   "source": [
    "- Its a straight line problem.\n",
    "- Linear algorithms assume, that the sample features x and the label output y are linearly related and there is an affine function f(x)=⟨w,x⟩+b / y = mx+c describing the underlying relationship."
   ]
  },
  {
   "cell_type": "markdown",
   "id": "e170af96",
   "metadata": {},
   "source": [
    "### Non-Linear"
   ]
  },
  {
   "cell_type": "markdown",
   "id": "641c02dd",
   "metadata": {},
   "source": [
    "1. Classification and Regression Trees\n",
    "2. Naive Bayes\n",
    "3. K-Nearest Neighbors\n",
    "4. Learning Vector Quantization\n",
    "5. Support Vector Machines"
   ]
  },
  {
   "cell_type": "markdown",
   "id": "4c38c73b",
   "metadata": {},
   "source": [
    "- The \"line\" doesn't have to be straight. In trees, the discriminating line is a stair-step shape. E.g., If you are over 6ft and over 250lb, there is a 90-whatever percent chance you are male. Neural nets and several other algos are similar, but with potentially very complex/curvy boundaries or \"lines of best fit\".\n",
    "- The second flavor of non linear models are non-parametric. K-nearest-neighbors is an example of this. It doesn't look for a discriminating line/curve at all, and instead just looks around at the classes of its nearest neighbors.\n",
    "- Nonlinear algorithms assumes a nonlinear relationship between x and y. Thus, f(x) can by a function of arbitrary complexity."
   ]
  },
  {
   "cell_type": "markdown",
   "id": "314e1679",
   "metadata": {},
   "source": [
    "## Parametric vs. Non-Parametric Algorithms\n"
   ]
  },
  {
   "cell_type": "markdown",
   "id": "707e24da",
   "metadata": {},
   "source": [
    "1. Some ML methods requires the data to follow a specific distribution in its feature space, for example the form of a multivariate normal Gaussian model. A method is called parametric, when those assumptions are made. The Maximimum Likelihood Classifier is such a parametric algorithm.\n",
    "2. Non-parametric approaches are not constrained to prior assumptions on the data distribution. Such methods allow application in versatile tasks and data types, such as e.g., RADAR data."
   ]
  },
  {
   "cell_type": "code",
   "execution_count": null,
   "id": "0875140c",
   "metadata": {},
   "outputs": [],
   "source": []
  }
 ],
 "metadata": {
  "kernelspec": {
   "display_name": "Python 3 (ipykernel)",
   "language": "python",
   "name": "python3"
  },
  "language_info": {
   "codemirror_mode": {
    "name": "ipython",
    "version": 3
   },
   "file_extension": ".py",
   "mimetype": "text/x-python",
   "name": "python",
   "nbconvert_exporter": "python",
   "pygments_lexer": "ipython3",
   "version": "3.7.7"
  }
 },
 "nbformat": 4,
 "nbformat_minor": 5
}
