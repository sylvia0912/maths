{
 "cells": [
  {
   "cell_type": "markdown",
   "id": "b0362281",
   "metadata": {},
   "source": [
    "## Essential maths functions"
   ]
  },
  {
   "cell_type": "markdown",
   "id": "0c65401c",
   "metadata": {},
   "source": [
    "### 1. Logarithm Function"
   ]
  },
  {
   "cell_type": "markdown",
   "id": "0708fd54",
   "metadata": {},
   "source": [
    "Reference - http://kronosapiens.github.io/blog/2017/03/28/objective-functions-in-machine-learning.html"
   ]
  },
  {
   "cell_type": "markdown",
   "id": "42e4e4c6",
   "metadata": {},
   "source": [
    "Logarithm is often presented as “the function which tells you the power you would need to raise a number to to get back the original argument”, or put more succintly, the degree to which you would need to exponentiate a base."
   ]
  },
  {
   "cell_type": "markdown",
   "id": "781b77ce",
   "metadata": {},
   "source": [
    "**The key applications of the logarithm:**\n",
    "1. It makes small numbers big, and big numbers small - i.e. The logarithm allows us to interpret events happening on incredible magnitude in a more familiar way.\n",
    "2. It turns multiplication into addition - the function is more easily differentiated, without resorting to cumbersome applications of the product rule.\n",
    "3. It increases monotonically (if x gets bigger, log(x) gets bigger) -  provides the essential guarantee that the optimal solution for the log function will be identical with the optimal solution for the original function.This means that we can optimize the log function and get the right answer for the original."
   ]
  },
  {
   "cell_type": "code",
   "execution_count": null,
   "id": "783df4c2",
   "metadata": {},
   "outputs": [],
   "source": []
  }
 ],
 "metadata": {
  "kernelspec": {
   "display_name": "Python 3 (ipykernel)",
   "language": "python",
   "name": "python3"
  },
  "language_info": {
   "codemirror_mode": {
    "name": "ipython",
    "version": 3
   },
   "file_extension": ".py",
   "mimetype": "text/x-python",
   "name": "python",
   "nbconvert_exporter": "python",
   "pygments_lexer": "ipython3",
   "version": "3.7.7"
  }
 },
 "nbformat": 4,
 "nbformat_minor": 5
}
