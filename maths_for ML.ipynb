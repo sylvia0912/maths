{
 "cells": [
  {
   "cell_type": "markdown",
   "id": "002dd6a4",
   "metadata": {},
   "source": [
    "## 4 Pillars of mathematics in ML"
   ]
  },
  {
   "cell_type": "markdown",
   "id": "123802c1",
   "metadata": {},
   "source": [
    "1. Linear Algebra\n",
    "2. Probability Theory\n",
    "3. Multivariate Calculus\n",
    "4. Optimization Theory"
   ]
  },
  {
   "cell_type": "code",
   "execution_count": null,
   "id": "04597fae",
   "metadata": {},
   "outputs": [],
   "source": []
  }
 ],
 "metadata": {
  "kernelspec": {
   "display_name": "Python 3 (ipykernel)",
   "language": "python",
   "name": "python3"
  },
  "language_info": {
   "codemirror_mode": {
    "name": "ipython",
    "version": 3
   },
   "file_extension": ".py",
   "mimetype": "text/x-python",
   "name": "python",
   "nbconvert_exporter": "python",
   "pygments_lexer": "ipython3",
   "version": "3.7.7"
  }
 },
 "nbformat": 4,
 "nbformat_minor": 5
}
